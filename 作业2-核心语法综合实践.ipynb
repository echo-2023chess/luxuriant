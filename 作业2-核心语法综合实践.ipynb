{
 "cells": [
  {
   "cell_type": "code",
   "execution_count": 11,
   "metadata": {},
   "outputs": [],
   "source": [
    "import pandas as pd\n",
    "# 作业2-核心语法综合实践  \n",
    "  \n",
    "# 假设仓库信息存储在一个字典中，键是学号，值是仓库信息  \n",
    "repositories = {  \n",
    "    'P221014687': 'C:\\\\Users\\\\刘德鑫\\\\Desktop\\\\luxuriant\\\\data\\\\000_《统计与数据分析》课程第一次作业收集_提交统计.xlsx',  \n",
    "}  "
   ]
  },
  {
   "cell_type": "code",
   "execution_count": 12,
   "metadata": {},
   "outputs": [],
   "source": [
    "# 假设评分标准是一个固定的值  \n",
    "scoring_standard = 10  "
   ]
  },
  {
   "cell_type": "code",
   "execution_count": 13,
   "metadata": {},
   "outputs": [
    {
     "name": "stdout",
     "output_type": "stream",
     "text": [
      "学号P221014687对应的仓库信息是：C:\\Users\\刘德鑫\\Desktop\\luxuriant\\data\\000_《统计与数据分析》课程第一次作业收集_提交统计.xlsx\n",
      "学号P221014688不存在对应的仓库信息。\n",
      "学号P221014689不存在对应的仓库信息。\n"
     ]
    }
   ],
   "source": [
    "# 3. 写一个循环，实现从给定的列表中按照自己的学号查找仓库信息。  \n",
    "student_ids = ['P221014687', 'P221014688', 'P221014689']  \n",
    "for student_id in student_ids:  \n",
    "    if student_id in repositories:  \n",
    "        print(f'学号{student_id}对应的仓库信息是：{repositories[student_id]}')  \n",
    "    else:  \n",
    "        print(f'学号{student_id}不存在对应的仓库信息。')  \n",
    "  "
   ]
  },
  {
   "cell_type": "code",
   "execution_count": 14,
   "metadata": {},
   "outputs": [],
   "source": [
    "# 4. 写一个函数，实现按学号查找仓库信息的功能。  \n",
    "def find_repository_by_id(student_id):  \n",
    "    if student_id in repositories:  \n",
    "        return repositories[student_id]  \n",
    "    else:  \n",
    "        return None  "
   ]
  },
  {
   "cell_type": "code",
   "execution_count": 15,
   "metadata": {},
   "outputs": [],
   "source": [
    "# 5. 写一个函数，对指定学号对应的仓库按照第一次作业的评分标准给出第一次作业的成绩。  \n",
    "def score_first_assignment(student_id):  \n",
    "    repository = find_repository_by_id(student_id)  \n",
    "    if repository is not None:  \n",
    "        # 这里只是一个示例，您可以根据实际情况修改计算方式  \n",
    "        if 'https://github.com/echo-2023chess/luxuriant.git' in repository:  \n",
    "            score = scoring_standard - 4  # 仓库无法公开访问，扣4分  \n",
    "        else:  \n",
    "            score = scoring_standard  # 仓库可以公开访问，得满分  \n",
    "        return score  \n",
    "    else:  \n",
    "        return None  # 学号不存在，返回None  \n",
    "  "
   ]
  },
  {
   "cell_type": "code",
   "execution_count": 16,
   "metadata": {},
   "outputs": [
    {
     "name": "stdout",
     "output_type": "stream",
     "text": [
      "学号P221014687第一次作业的成绩是：10\n"
     ]
    }
   ],
   "source": [
    "# 6. 调用函数，传入学号，输出函数返回值。  \n",
    "student_id = 'P221014687'  \n",
    "print(f'学号{student_id}第一次作业的成绩是：{score_first_assignment(student_id)}')"
   ]
  }
 ],
 "metadata": {
  "kernelspec": {
   "display_name": "Python 3",
   "language": "python",
   "name": "python3"
  },
  "language_info": {
   "codemirror_mode": {
    "name": "ipython",
    "version": 3
   },
   "file_extension": ".py",
   "mimetype": "text/x-python",
   "name": "python",
   "nbconvert_exporter": "python",
   "pygments_lexer": "ipython3",
   "version": "3.8.10"
  },
  "orig_nbformat": 4
 },
 "nbformat": 4,
 "nbformat_minor": 2
}

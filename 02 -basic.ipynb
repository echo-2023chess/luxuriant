{
 "cells": [
  {
   "cell_type": "code",
   "execution_count": 9,
   "metadata": {},
   "outputs": [
    {
     "name": "stdout",
     "output_type": "stream",
     "text": [
      "这个作业好繁琐\n"
     ]
    }
   ],
   "source": [
    "print('这个作业好繁琐')"
   ]
  },
  {
   "cell_type": "code",
   "execution_count": 13,
   "metadata": {},
   "outputs": [
    {
     "name": "stdout",
     "output_type": "stream",
     "text": [
      "3+2=5\n",
      "3-2=1\n",
      "3*2=6\n",
      "3/2=1.5\n",
      "3//2=1\n",
      "3%2=1\n",
      "3**2=9\n"
     ]
    }
   ],
   "source": [
    "print('3+2='+str(3+2))\n",
    "print('3-2='+str(3-2))\n",
    "print('3*2='+str(3*2))\n",
    "print('3/2='+str(3/2))\n",
    "print('3//2='+str(3//2))\n",
    "print('3%2='+str(3%2))\n",
    "print('3**2='+str(3**2))\n",
    "\n",
    "\n"
   ]
  },
  {
   "cell_type": "code",
   "execution_count": 14,
   "metadata": {},
   "outputs": [
    {
     "name": "stdout",
     "output_type": "stream",
     "text": [
      "崆洞派\n",
      "崆洞\n"
     ]
    }
   ],
   "source": [
    "sects='崆洞派'\n",
    "print(sects)\n",
    "门派='崆洞'\n",
    "print(门派)"
   ]
  },
  {
   "cell_type": "markdown",
   "metadata": {},
   "source": [
    "1.删除已有账户信息。（Windows管理凭据中，查看信息，若不是自己账号，则删除）2.新建账号信息，可用脚本快速复用。具体内容见push.sh3.执行推送脚本1.启动bash终端2.执行'sh push.sh'"
   ]
  }
 ],
 "metadata": {
  "kernelspec": {
   "display_name": "Python 3",
   "language": "python",
   "name": "python3"
  },
  "language_info": {
   "codemirror_mode": {
    "name": "ipython",
    "version": 3
   },
   "file_extension": ".py",
   "mimetype": "text/x-python",
   "name": "python",
   "nbconvert_exporter": "python",
   "pygments_lexer": "ipython3",
   "version": "3.8.10"
  },
  "orig_nbformat": 4
 },
 "nbformat": 4,
 "nbformat_minor": 2
}
